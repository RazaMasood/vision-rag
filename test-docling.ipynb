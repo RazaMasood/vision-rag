{
 "cells": [
  {
   "cell_type": "code",
   "execution_count": 1,
   "id": "a4d18148",
   "metadata": {},
   "outputs": [
    {
     "name": "stderr",
     "output_type": "stream",
     "text": [
      "d:\\Development\\vision-rag\\.venv\\Lib\\site-packages\\tqdm\\auto.py:21: TqdmWarning: IProgress not found. Please update jupyter and ipywidgets. See https://ipywidgets.readthedocs.io/en/stable/user_install.html\n",
      "  from .autonotebook import tqdm as notebook_tqdm\n"
     ]
    }
   ],
   "source": [
    "from langchain_docling import DoclingLoader\n",
    "\n",
    "FILE_PATH = \"tax-invoice.jpg\"\n",
    "\n",
    "loader = DoclingLoader(file_path=FILE_PATH)"
   ]
  },
  {
   "cell_type": "code",
   "execution_count": 2,
   "id": "71792eef",
   "metadata": {},
   "outputs": [
    {
     "name": "stderr",
     "output_type": "stream",
     "text": [
      "d:\\Development\\vision-rag\\.venv\\Lib\\site-packages\\torch\\utils\\data\\dataloader.py:665: UserWarning: 'pin_memory' argument is set as true but no accelerator is found, then device pinned memory won't be used.\n",
      "  warnings.warn(warn_msg)\n"
     ]
    }
   ],
   "source": [
    "docs = loader.load()"
   ]
  },
  {
   "cell_type": "code",
   "execution_count": null,
   "id": "7ea8c663",
   "metadata": {},
   "outputs": [],
   "source": [
    "from pathlib import Path\n",
    "from tempfile import mkdtemp\n",
    "import os\n",
    "\n",
    "from dotenv import load_dotenv\n",
    "from langchain_core.prompts import PromptTemplate\n",
    "from langchain_docling.loader import ExportType\n",
    "\n",
    "from docling_core.transforms.chunker.tokenizer.huggingface import HuggingFaceTokenizer\n",
    "\n",
    "\n",
    "from langchain_ollama import OllamaEmbeddings\n",
    "from langchain_ollama.llms import OllamaLLM\n",
    "\n",
    "load_dotenv()\n",
    "        \n",
    "HF_TOKEN = os.getenv(\"HF_TOKEN\")\n",
    "FILE_PATH = [\"tax-invoice.jpg\"]  # Docling Technical Report\n",
    "# EMBED_MODEL_ID = OllamaEmbeddings(model=\"nomic-embed-text\")\n",
    "EMBED_MODEL_ID = \"sentence-transformers/all-MiniLM-L6-v2\"\n",
    "\n",
    "GEN_MODEL_ID = \"mistral\"\n",
    "EXPORT_TYPE = ExportType.DOC_CHUNKS\n",
    "QUESTION = \"What is the Invoice NO.?\"\n",
    "PROMPT = PromptTemplate.from_template(\n",
    "    \"Context information is below.\\n---------------------\\n{context}\\n---------------------\\nGiven the context information and not prior knowledge, answer the query.\\nQuery: {input}\\nAnswer:\\n\",\n",
    ")\n",
    "TOP_K = 3\n",
    "# MILVUS_URI = str(Path(mkdtemp()) / \"docling.db\")"
   ]
  },
  {
   "cell_type": "code",
   "execution_count": 49,
   "id": "4576c51d",
   "metadata": {},
   "outputs": [
    {
     "name": "stderr",
     "output_type": "stream",
     "text": [
      "d:\\Development\\vision-rag\\.venv\\Lib\\site-packages\\torch\\utils\\data\\dataloader.py:665: UserWarning: 'pin_memory' argument is set as true but no accelerator is found, then device pinned memory won't be used.\n",
      "  warnings.warn(warn_msg)\n"
     ]
    }
   ],
   "source": [
    "from docling.chunking import HybridChunker\n",
    "from langchain_docling import DoclingLoader\n",
    "\n",
    "loader = DoclingLoader(\n",
    "    file_path=FILE_PATH,\n",
    "    export_type=EXPORT_TYPE,\n",
    "    chunker=HybridChunker(tokenizer=EMBED_MODEL_ID),\n",
    ")\n",
    "\n",
    "docs = loader.load()"
   ]
  },
  {
   "cell_type": "code",
   "execution_count": 50,
   "id": "8b829a78",
   "metadata": {},
   "outputs": [],
   "source": [
    "if EXPORT_TYPE == ExportType.DOC_CHUNKS:\n",
    "    splits = docs\n",
    "elif EXPORT_TYPE == ExportType.MARKDOWN:\n",
    "    from langchain_text_splitters import MarkdownHeaderTextSplitter\n",
    "\n",
    "    splitter = MarkdownHeaderTextSplitter(\n",
    "        headers_to_split_on=[\n",
    "            (\"#\", \"Header_1\"),\n",
    "            (\"##\", \"Header_2\"),\n",
    "            (\"###\", \"Header_3\"),\n",
    "        ],\n",
    "    )\n",
    "    splits = [split for doc in docs for split in splitter.split_text(doc.page_content)]\n",
    "else:\n",
    "    raise ValueError(f\"Unexpected export type: {EXPORT_TYPE}\")"
   ]
  },
  {
   "cell_type": "code",
   "execution_count": 51,
   "id": "e9bee909",
   "metadata": {},
   "outputs": [
    {
     "name": "stdout",
     "output_type": "stream",
     "text": [
      "- d.page_content=\"Tax Invoice\\nMax Enterprises\\nInvoice No.\\nDated\\n261,6th Cross Jayanagar,4th Block Bengaluru\\n4-Apr-20\\nDelivery Note\\nModelTerms of Payment\\nGSTINIUIN: 29AAACP7879DIZ\\nReference No. & Date\\nOther References\\nState Name\\nKarnataka Code\\n29\\nE-Mail\\nsupport@maxenterprises com\\nBuyer's Order No.\\nDated\\nBuyer (Bill to)\\nAce Electronics 345,7th Cross Koramangala Benguuru GSTINUIN State Name\\nDispatch Doc No.\\nDelivery Note Date\\nRWIOO1\\nDispatched through\\nDestination\\nRoad\\nBengaluru_\\n29AAACE7858FIZC\\nBill of Lading/LR-RR No.\\nMotor Vehicle No\\nKarnataka\\n29\\nKA 51 EA 5451\\nTerms of Delivery\\n, Description of Goods = Dell 17 inch Monitor. , HSNISAC = 8471. , Quantity = 5 Nos. , Rate = 8,900.00. , per = Nos. , Amount = 44,500.00. , Description of Goods = Total. , HSNISAC = . , Quantity = 5 Nos. , Rate = . , per = . , Amount = { 52,510.00\\nAmount Chargeable (in words)\"\n",
      "- d.page_content='INR Two Thousand Five Hundred Ten Only Fifty\\n8471, Taxable Value. = 44,500.00. 8471, Central Tax.Rate = 9%. 8471, Central Tax.Amount = 4,005.00. 8471, State Tax.Rate = 9%. 8471, State Tax.Amount = 4,005.00. 8471, Total.Tax Amount = 8,010.00. Total, Taxable Value. = 44,500.00. Total, Central Tax.Rate = . Total, Central Tax.Amount = 4,005.00. Total, State Tax.Rate = . Total, State Tax.Amount = 4,005.00. Total, Total.Tax Amount = 8,010.00'\n",
      "- d.page_content='Tax Amount (in words) INR Eight Thousand Ten Only\\nDeclaration\\nfor Max Enterprises\\nWe declare that this invoice shows the actual price of the goods described and that all particulars are true and correct\\nAuthorised Signatory'\n"
     ]
    }
   ],
   "source": [
    "for d in splits:\n",
    "    print(f\"- {d.page_content=}\")\n",
    "# print(\"...\")"
   ]
  },
  {
   "cell_type": "code",
   "execution_count": 52,
   "id": "e15bc1cc",
   "metadata": {},
   "outputs": [],
   "source": [
    "import json\n",
    "from langchain_huggingface.embeddings import HuggingFaceEmbeddings\n",
    "from langchain_community.vectorstores import FAISS\n",
    "from langchain.text_splitter import RecursiveCharacterTextSplitter\n",
    "\n",
    "\n",
    "embeddings = HuggingFaceEmbeddings(model_name=EMBED_MODEL_ID)\n",
    "vectorstore = FAISS.from_texts(\n",
    "    [chunk.page_content for chunk in docs],\n",
    "    embeddings,\n",
    ")\n"
   ]
  },
  {
   "cell_type": "code",
   "execution_count": 53,
   "id": "46a8fc34",
   "metadata": {},
   "outputs": [],
   "source": [
    "from langchain.chains import create_retrieval_chain\n",
    "from langchain.chains.combine_documents import create_stuff_documents_chain\n",
    "from langchain_huggingface import HuggingFaceEndpoint\n",
    "\n",
    "retriever = vectorstore.as_retriever(search_kwargs={\"k\": TOP_K})\n",
    "# llm = HuggingFaceEndpoint(\n",
    "#     repo_id=GEN_MODEL_ID,\n",
    "#     huggingfacehub_api_token=HF_TOKEN,\n",
    "#     task=\"text-generation\",\n",
    "\n",
    "llm = OllamaLLM(model=GEN_MODEL_ID, temperature=0.5)\n"
   ]
  },
  {
   "cell_type": "code",
   "execution_count": 54,
   "id": "152b45ca",
   "metadata": {},
   "outputs": [],
   "source": [
    "def clip_text(text, threshold=100):\n",
    "    return f\"{text[:threshold]}...\" if len(text) > threshold else text"
   ]
  },
  {
   "cell_type": "code",
   "execution_count": 55,
   "id": "bda134a3",
   "metadata": {},
   "outputs": [
    {
     "name": "stdout",
     "output_type": "stream",
     "text": [
      "Question:\n",
      "What is the Invoice NO.?\n",
      "\n",
      "Answer:\n",
      " The Invoice No. is not explicitly mentioned in the provided context. However, it's common for invoice numbers to be included in the header or footer of an invoice document. To find the exact invoice number, you should refer to the original document or confirm with the sender if possible.\n",
      "\n",
      "Source 1:\n",
      "  text: \"Tax Amount (in words) INR Eight Thousand Ten Only\\nDeclaration\\nfor Max Enterprises\\nWe declare that this invoice shows the actual price of the goods described and that all particulars are true and correct\\nAuthorised Signatory\"\n",
      "\n",
      "Source 2:\n",
      "  text: \"Tax Invoice\\nMax Enterprises\\nInvoice No.\\nDated\\n261,6th Cross Jayanagar,4th Block Bengaluru\\n4-Apr-20\\nDelivery Note\\nModelTerms of Payment\\nGSTINIUIN: 29AAACP7879DIZ\\nReference No. & Date\\nOther References\\nState Name\\nKarnataka Code\\n29\\nE-Mail\\nsupport@maxenterprises com\\nBuyer's Order No.\\nDated\\nBuyer (Bill to)\\nAce Electronics 345,7th Cross Koramangala Benguu...\"\n",
      "\n",
      "Source 3:\n",
      "  text: \"INR Two Thousand Five Hundred Ten Only Fifty\\n8471, Taxable Value. = 44,500.00. 8471, Central Tax.Rate = 9%. 8471, Central Tax.Amount = 4,005.00. 8471, State Tax.Rate = 9%. 8471, State Tax.Amount = 4,005.00. 8471, Total.Tax Amount = 8,010.00. Total, Taxable Value. = 44,500.00. Total, Central Tax.Rate = . Total, Central Tax.Amount = 4,005.00. Total, ...\"\n"
     ]
    }
   ],
   "source": [
    "question_answer_chain = create_stuff_documents_chain(llm, PROMPT)\n",
    "rag_chain = create_retrieval_chain(retriever, question_answer_chain)\n",
    "resp_dict = rag_chain.invoke({\"input\": QUESTION})\n",
    "\n",
    "clipped_answer = clip_text(resp_dict[\"answer\"], threshold=350)\n",
    "print(f\"Question:\\n{resp_dict['input']}\\n\\nAnswer:\\n{clipped_answer}\")\n",
    "for i, doc in enumerate(resp_dict[\"context\"]):\n",
    "    print()\n",
    "    print(f\"Source {i+1}:\")\n",
    "    print(f\"  text: {json.dumps(clip_text(doc.page_content, threshold=350))}\")\n",
    "    for key in doc.metadata:\n",
    "        if key != \"pk\":\n",
    "            val = doc.metadata.get(key)\n",
    "            clipped_val = clip_text(val) if isinstance(val, str) else val\n",
    "            print(f\"  {key}: {clipped_val}\")"
   ]
  }
 ],
 "metadata": {
  "kernelspec": {
   "display_name": "vision-rag",
   "language": "python",
   "name": "python3"
  },
  "language_info": {
   "codemirror_mode": {
    "name": "ipython",
    "version": 3
   },
   "file_extension": ".py",
   "mimetype": "text/x-python",
   "name": "python",
   "nbconvert_exporter": "python",
   "pygments_lexer": "ipython3",
   "version": "3.12.11"
  }
 },
 "nbformat": 4,
 "nbformat_minor": 5
}
